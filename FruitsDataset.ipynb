{
 "cells": [
  {
   "cell_type": "markdown",
   "metadata": {},
   "source": [
    "# Creating your own dataset from Google Images Dataset\n",
    "\n",
    "*The dataset creation of this work has been inspired and adopted by https://github.com/fastai/course-v3/blob/master/nbs/dl1/lesson2-download.ipynb*"
   ]
  },
  {
   "cell_type": "code",
   "execution_count": 1,
   "metadata": {},
   "outputs": [],
   "source": [
    "from fastai.vision import *"
   ]
  },
  {
   "cell_type": "markdown",
   "metadata": {},
   "source": [
    "### Search and scroll\n",
    "Go to [Google Images](http://images.google.com) and search for the images you are interested in. The more specific you are in your Google Search, the better the results and the less manual pruning you will have to do.\n",
    "\n",
    "Scroll down until you've seen all the images you want to download, or until you see a button that says 'Show more results'. All the images you scrolled past are now available to download. To get more, click on the button, and continue scrolling. The maximum number of images Google Images shows is 700.\n",
    "\n",
    "It is a good idea to put things you want to exclude into the search query, for instance if you are searching for the Eurasian wolf, \"canis lupus lupus\", it might be a good idea to exclude other variants:\n",
    "\n",
    "    \"canis lupus lupus\" -dog -arctos -familiaris -baileyi -occidentalis\n",
    "\n",
    "You can also limit your results to show only photos by clicking on Tools and selecting Photos from the Type dropdown."
   ]
  },
  {
   "cell_type": "markdown",
   "metadata": {},
   "source": [
    "### Download into file\n",
    "\n",
    "Now you must run some Javascript code in your browser which will save the URLs of all the images you want for you dataset.\n",
    "\n",
    "In Google Chrome press <kbd>Ctrl</kbd><kbd>Shift</kbd><kbd>j</kbd> on Windows/Linux and <kbd>Cmd</kbd><kbd>Opt</kbd><kbd>j</kbd> on macOS, and a small window the javascript 'Console' will appear. In Firefox press <kbd>Ctrl</kbd><kbd>Shift</kbd><kbd>k</kbd> on Windows/Linux or <kbd>Cmd</kbd><kbd>Opt</kbd><kbd>k</kbd> on macOS. That is where you will paste the JavaScript commands.\n",
    "\n",
    "You will need to get the urls of each of the images. Before running the following commands, you may want to disable ad blocking extensions (uBlock, AdBlockPlus etc.) in Chrome. Otherwise the window.open() command doesn't work. Then you can run the following commands:\n",
    "\n",
    "```javascript\n",
    "urls=Array.from(document.querySelectorAll('.rg_i')).map(el=> el.hasAttribute('data-src')?el.getAttribute('data-src'):el.getAttribute('data-iurl'));\n",
    "window.open('data:text/csv;charset=utf-8,' + escape(urls.join('\\n')));\n",
    "```"
   ]
  },
  {
   "cell_type": "markdown",
   "metadata": {},
   "source": [
    "### Fruits dataset\n",
    "\n",
    "We searching for **apple**, **banana** and **orange** to create our datasets. These are prepared in the [data](data) folder."
   ]
  },
  {
   "cell_type": "markdown",
   "metadata": {},
   "source": [
    "### Download data\n",
    "Next we need to download the images through the urls."
   ]
  },
  {
   "cell_type": "code",
   "execution_count": 2,
   "metadata": {},
   "outputs": [
    {
     "name": "stdout",
     "output_type": "stream",
     "text": [
      "https://encrypted-tbn0.gstatic.com/images?q=tbn%3AANd9GcQKbAPZi3RS4CSKXLoeKWaiTUa2L2aE7IVwOKnryDkUdZuQO-IX&usqp=CAU\r\n",
      "https://encrypted-tbn0.gstatic.com/images?q=tbn%3AANd9GcTh5ZwxB7imd-P3RSychtdaSp_ty1HJl5r8ViZbHsqK_ked6S9m&usqp=CAU\r\n",
      "https://encrypted-tbn0.gstatic.com/images?q=tbn%3AANd9GcRmbzRn6H6tWtmWx6bVhlE-M-wvkbZ47xLbgU0kVm-9xNFtc9q7&usqp=CAU\r\n",
      "https://encrypted-tbn0.gstatic.com/images?q=tbn%3AANd9GcTS2H6WPq4JdC2jb-mMNPxr4WuTkUd_-SG-dqNFI0Vfqk5Zs7od&usqp=CAU\r\n",
      "https://encrypted-tbn0.gstatic.com/images?q=tbn%3AANd9GcT62GykE0Xglul21_dgniVZJgqbJW3oMIMA8TOsh_sY9mFlb-49&usqp=CAU\r\n",
      "https://encrypted-tbn0.gstatic.com/images?q=tbn%3AANd9GcRS84wdHqXjyTOxBpmvxADtYjgV3DBU9nhwGk4Ip49hsENP8AQZ&usqp=CAU\r\n",
      "https://encrypted-tbn0.gstatic.com/images?q=tbn%3AANd9GcTnHNhFIADnH8b6FQy03r-2I-OqKs38J6JOZKofdvZxPq3Pcfh6&usqp=CAU\r\n",
      "https://encrypted-tbn0.gstatic.com/images?q=tbn%3AANd9GcSjjs0o-jLceNVUs-kCE_5BBh9VxzAK-6Z3otGZ4O2IpoJZqA9s&usqp=CAU\r\n",
      "https://encrypted-tbn0.gstatic.com/images?q=tbn%3AANd9GcSNSyd23OKm1Z1kpKSpGOZhD5ZVzbYDnN39BhdYCvAanunt82xV&usqp=CAU\r\n",
      "https://encrypted-tbn0.gstatic.com/images?q=tbn%3AANd9GcTOjXiBm1yb5aIMYpctVgX8mGZvqyFOTVE9nWtqquu6RvGxA_em&usqp=CAU\r\n"
     ]
    }
   ],
   "source": [
    "!head data/apple/urls_apple.csv"
   ]
  },
  {
   "cell_type": "code",
   "execution_count": 3,
   "metadata": {},
   "outputs": [
    {
     "data": {
      "text/html": [],
      "text/plain": [
       "<IPython.core.display.HTML object>"
      ]
     },
     "metadata": {},
     "output_type": "display_data"
    },
    {
     "data": {
      "text/html": [],
      "text/plain": [
       "<IPython.core.display.HTML object>"
      ]
     },
     "metadata": {},
     "output_type": "display_data"
    },
    {
     "data": {
      "text/html": [],
      "text/plain": [
       "<IPython.core.display.HTML object>"
      ]
     },
     "metadata": {},
     "output_type": "display_data"
    },
    {
     "data": {
      "text/html": [],
      "text/plain": [
       "<IPython.core.display.HTML object>"
      ]
     },
     "metadata": {},
     "output_type": "display_data"
    },
    {
     "data": {
      "text/html": [],
      "text/plain": [
       "<IPython.core.display.HTML object>"
      ]
     },
     "metadata": {},
     "output_type": "display_data"
    },
    {
     "data": {
      "text/html": [],
      "text/plain": [
       "<IPython.core.display.HTML object>"
      ]
     },
     "metadata": {},
     "output_type": "display_data"
    },
    {
     "data": {
      "text/html": [],
      "text/plain": [
       "<IPython.core.display.HTML object>"
      ]
     },
     "metadata": {},
     "output_type": "display_data"
    },
    {
     "data": {
      "text/html": [],
      "text/plain": [
       "<IPython.core.display.HTML object>"
      ]
     },
     "metadata": {},
     "output_type": "display_data"
    },
    {
     "data": {
      "text/html": [],
      "text/plain": [
       "<IPython.core.display.HTML object>"
      ]
     },
     "metadata": {},
     "output_type": "display_data"
    },
    {
     "data": {
      "text/html": [],
      "text/plain": [
       "<IPython.core.display.HTML object>"
      ]
     },
     "metadata": {},
     "output_type": "display_data"
    }
   ],
   "source": [
    "classes = [\"apple\", \"banana\", \"orange\", \"grape\", \"strawberry\"]\n",
    "for c in classes:\n",
    "    class_folder = f\"data/{c}\"\n",
    "    file = f\"{class_folder}/urls_{c}.csv\"\n",
    "    download_images(file, class_folder)\n",
    "    verify_images(f\"data/{c}\", delete=True, max_size=500)\n"
   ]
  }
 ],
 "metadata": {
  "kernelspec": {
   "display_name": "Python 3",
   "language": "python",
   "name": "python3"
  },
  "language_info": {
   "codemirror_mode": {
    "name": "ipython",
    "version": 3
   },
   "file_extension": ".py",
   "mimetype": "text/x-python",
   "name": "python",
   "nbconvert_exporter": "python",
   "pygments_lexer": "ipython3",
   "version": "3.6.7"
  }
 },
 "nbformat": 4,
 "nbformat_minor": 2
}
